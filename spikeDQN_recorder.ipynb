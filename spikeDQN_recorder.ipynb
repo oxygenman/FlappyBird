{
 "cells": [
  {
   "cell_type": "code",
   "execution_count": 2,
   "metadata": {
    "collapsed": true
   },
   "outputs": [
    {
     "name": "stdout",
     "output_type": "stream",
     "text": [
      "[ True False False  True]\n[1 2 3 1]\n[0 2 3 0]\n"
     ]
    }
   ],
   "source": [
    "import tensorflow as tf\n",
    "\n",
    "a = tf.Variable( [1,2,3,1] )    \n",
    "start_op = tf.global_variables_initializer()    \n",
    "comparison = tf.equal( a, tf.constant( 1 ) )    \n",
    "conditional_assignment_op = a.assign( tf.where (comparison, tf.zeros_like(a), a) )\n",
    "\n",
    "with tf.Session() as session:\n",
    "    # Equivalent to: a = np.array( [1, 2, 3, 1] )\n",
    "    session.run( start_op )\n",
    "    print(comparison.eval())\n",
    "    print( a.eval() )    \n",
    "    # Equivalent to: a[a==1] = 0\n",
    "    session.run( conditional_assignment_op )\n",
    "    print( a.eval() )"
   ]
  },
  {
   "cell_type": "markdown",
   "metadata": {},
   "source": [
    ""
   ]
  },
  {
   "cell_type": "markdown",
   "metadata": {},
   "source": [
    ""
   ]
  }
 ],
 "metadata": {
  "kernelspec": {
   "display_name": "Python 2",
   "language": "python",
   "name": "python2"
  },
  "language_info": {
   "codemirror_mode": {
    "name": "ipython",
    "version": 2.0
   },
   "file_extension": ".py",
   "mimetype": "text/x-python",
   "name": "python",
   "nbconvert_exporter": "python",
   "pygments_lexer": "ipython2",
   "version": "2.7.6"
  }
 },
 "nbformat": 4,
 "nbformat_minor": 0
}